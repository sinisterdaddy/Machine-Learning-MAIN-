{
  "cells": [
    {
      "cell_type": "code",
      "execution_count": 1,
      "metadata": {
        "colab": {
          "base_uri": "https://localhost:8080/"
        },
        "id": "vfzCm4k1734m",
        "outputId": "82a3ee11-b416-4cc9-c0e5-b5268bc8224a"
      },
      "outputs": [
        {
          "name": "stdout",
          "output_type": "stream",
          "text": [
            "[('Japan ', 'Honda', 'Blue ', '1980', 'Economy', 'Yes'), ('Japan ', 'Toyota', 'Green', '1970', 'Sports', 'No'), ('Japan ', 'Toyota', 'Blue ', '1990', 'Economy', 'Yes'), ('USA', 'Chrysler', 'Red', '1980', 'Economy', 'No'), ('Japan ', 'Honda', 'White', '1980', 'Economy', 'Yes')]\n"
          ]
        }
      ],
      "source": [
        "import csv\n",
        "with open('EconomyCar.csv') as csvFile:\n",
        "    examples = [tuple(line) for line in csv.reader(csvFile)]\n",
        "print(examples)"
      ]
    },
    {
      "cell_type": "code",
      "execution_count": null,
      "metadata": {
        "colab": {
          "base_uri": "https://localhost:8080/"
        },
        "id": "cS3aCyAI8A6i",
        "outputId": "d44b0398-3a99-44ff-860d-2a2e3a3f7574"
      },
      "outputs": [
        {
          "data": {
            "text/plain": [
              "[['Japan ', 'USA'],\n",
              " ['Chrysler', 'Honda', 'Toyota'],\n",
              " ['Blue ', 'Green', 'Red', 'White'],\n",
              " ['1970', '1980', '1990'],\n",
              " ['Economy', 'Sports'],\n",
              " ['No', 'Yes']]"
            ]
          },
          "execution_count": 2,
          "metadata": {},
          "output_type": "execute_result"
        }
      ],
      "source": [
        "def get_domains(examples):\n",
        "    d = [set() for i in examples[0]] \n",
        "    for x in examples:\n",
        "        for i, xi in enumerate(x):\n",
        "            d[i].add(xi)\n",
        "    return [list(sorted(x)) for x in d]\n",
        "get_domains(examples)"
      ]
    },
    {
      "cell_type": "code",
      "execution_count": null,
      "metadata": {
        "id": "4HssItmY8A84"
      },
      "outputs": [],
      "source": [
        "def g_0(n):\n",
        "    return ('?',)*n\n",
        "\n",
        "def s_0(n):\n",
        "    return ('Phi',)*n\n",
        "def more_general(h1, h2):\n",
        "    more_general_parts = []\n",
        "    for x, y in zip(h1, h2):\n",
        "        mg = x == '?' or (x != 'Phi' and (x == y or y == 'Phi'))\n"
      ]
    },
    {
      "cell_type": "code",
      "execution_count": null,
      "metadata": {
        "colab": {
          "base_uri": "https://localhost:8080/"
        },
        "id": "LAb9Yz6N8A_M",
        "outputId": "312be374-b8ee-4d68-a81e-04acaddac3d2"
      },
      "outputs": [
        {
          "name": "stdout",
          "output_type": "stream",
          "text": [
            "All the hypotheses in General and Specific boundary are:\n",
            "\n",
            "\n",
            " G[0]: {('?', '?', '?', '?', '?')}\n",
            "\n",
            " S[0]: {('Phi', 'Phi', 'Phi', 'Phi', 'Phi')}\n",
            "\n",
            " G[1]: {('?', '?', '?', '?', '?')}\n",
            "\n",
            " S[1]: {('Japan ', 'Honda', 'Blue ', '1980', 'Economy')}\n",
            "\n",
            " G[2]: {('?', 'Honda', '?', '?', '?'), ('?', '?', '?', '?', 'Economy'), ('?', '?', '?', '1980', '?'), ('?', '?', 'Blue ', '?', '?')}\n",
            "\n",
            " S[2]: {('Japan ', 'Honda', 'Blue ', '1980', 'Economy')}\n",
            "\n",
            " G[3]: {('?', '?', 'Blue ', '?', '?'), ('?', '?', '?', '?', 'Economy')}\n",
            "\n",
            " S[3]: {('Japan ', '?', 'Blue ', '?', 'Economy')}\n",
            "\n",
            " G[4]: {('Japan ', '?', '?', '?', 'Economy'), ('?', '?', 'Blue ', '?', '?')}\n",
            "\n",
            " S[4]: {('Japan ', '?', 'Blue ', '?', 'Economy')}\n",
            "\n",
            " G[5]: {('Japan ', '?', '?', '?', 'Economy')}\n",
            "\n",
            " S[5]: {('Japan ', '?', '?', '?', 'Economy')}\n"
          ]
        }
      ],
      "source": [
        "def g_0(n):\n",
        "    return ('?',)*n\n",
        "\n",
        "def s_0(n):\n",
        "    return ('Phi',)*n\n",
        "def more_general(h1, h2):\n",
        "    more_general_parts = []\n",
        "    for x, y in zip(h1, h2):\n",
        "        mg = x == '?' or (x != 'Phi' and (x == y or y == 'Phi'))\n",
        "        more_general_parts.append(mg)\n",
        "    return all(more_general_parts) \n",
        "\n",
        "def consistent(hypothesis,example):\n",
        "    return more_general(hypothesis, example)\n",
        "\n",
        "def min_generalizations(h, x):\n",
        "    h_new = list(h)\n",
        "    for i in range(len(h)):\n",
        "        if not consistent(h[i:i+1],x[i:i+1]):\n",
        "            if h[i] != 'Phi':\n",
        "                h_new[i] = '?'\n",
        "            else:\n",
        "                h_new[i] = x[i]\n",
        "    return [tuple(h_new)]\n",
        "\n",
        "def generalize_S(x, G, S):\n",
        "    S_prev = list(S)\n",
        "    for s in S_prev:\n",
        "        if s not in S:\n",
        "            continue\n",
        "        if not consistent(s,x):\n",
        "            S.remove(s)\n",
        "            Splus = min_generalizations(s, x)\n",
        "            S.update([h for h in Splus if any([more_general(g,h) \n",
        "                                               for g in G])])\n",
        "\n",
        "            S.difference_update([h for h in S if \n",
        "                                 any([more_general(h, h1) \n",
        "                                      for h1 in S if h != h1])])\n",
        "    return S\n",
        "\n",
        "def min_specializations(h, domains, x):\n",
        "    results = []\n",
        "    for i in range(len(h)):\n",
        "        if h[i] == '?':\n",
        "            for val in domains[i]:\n",
        "                if x[i] != val:\n",
        "                    h_new = h[:i] + (val,) + h[i+1:]\n",
        "                    results.append(h_new)\n",
        "        elif h[i] != 'Phi':\n",
        "            h_new = h[:i] + ('Phi',) + h[i+1:]\n",
        "            results.append(h_new)\n",
        "    return results\n",
        "\n",
        "def specialize_G(x, domains, G, S):\n",
        "    G_prev = list(G)\n",
        "    for g in G_prev:\n",
        "        if g not in G:\n",
        "            continue\n",
        "        if consistent(g,x):\n",
        "            G.remove(g)\n",
        "            Gminus = min_specializations(g, domains, x)\n",
        "            G.update([h for h in Gminus if any([more_general(h, s)\n",
        "                                                for s in S])])\n",
        "            G.difference_update([h for h in G if \n",
        "                                 any([more_general(g1, h) \n",
        "                                      for g1 in G if h != g1])])\n",
        "    return G\n",
        "\n",
        "def candidate_elimination(examples):\n",
        "    domains = get_domains(examples)[:-1] \n",
        "    \n",
        "    G = set([g_0(len(domains))])\n",
        "    S = set([s_0(len(domains))])\n",
        "    i=0\n",
        "    print('All the hypotheses in General and Specific boundary are:\\n')\n",
        "    print('\\n G[{0}]:'.format(i),G)\n",
        "    print('\\n S[{0}]:'.format(i),S)\n",
        "    for xcx in examples:\n",
        "        i=i+1\n",
        "        x, cx = xcx[:-1], xcx[-1]  \n",
        "        if cx=='Yes': \n",
        "            G = {g for g in G if consistent(g,x)}\n",
        "            S = generalize_S(x, G, S)\n",
        "        else: \n",
        "            S = {s for s in S if not consistent(s,x)}\n",
        "            G = specialize_G(x, domains, G, S)\n",
        "        print('\\n G[{0}]:'.format(i),G)\n",
        "        print('\\n S[{0}]:'.format(i),S)\n",
        "    return\n",
        "candidate_elimination(examples)\n"
      ]
    },
    {
      "cell_type": "code",
      "execution_count": null,
      "metadata": {
        "id": "JYu8VJrk8BBY"
      },
      "outputs": [],
      "source": []
    },
    {
      "cell_type": "code",
      "execution_count": null,
      "metadata": {
        "id": "eknbv0jx8BDf"
      },
      "outputs": [],
      "source": []
    },
    {
      "cell_type": "code",
      "execution_count": null,
      "metadata": {
        "id": "1jcxjkR48BGM"
      },
      "outputs": [],
      "source": []
    },
    {
      "cell_type": "code",
      "execution_count": null,
      "metadata": {
        "id": "VbzdzuP88BIJ"
      },
      "outputs": [],
      "source": []
    },
    {
      "cell_type": "code",
      "execution_count": null,
      "metadata": {
        "id": "fFKZ4qkW8BKd"
      },
      "outputs": [],
      "source": []
    },
    {
      "cell_type": "code",
      "execution_count": null,
      "metadata": {
        "id": "UGrD5b-L8BMW"
      },
      "outputs": [],
      "source": []
    },
    {
      "cell_type": "code",
      "execution_count": null,
      "metadata": {
        "id": "LrgNHEk98BOq"
      },
      "outputs": [],
      "source": []
    },
    {
      "cell_type": "code",
      "execution_count": null,
      "metadata": {
        "id": "UU8tshsr8BRj"
      },
      "outputs": [],
      "source": []
    }
  ],
  "metadata": {
    "colab": {
      "provenance": []
    },
    "kernelspec": {
      "display_name": "Python 3",
      "language": "python",
      "name": "python3"
    },
    "language_info": {
      "codemirror_mode": {
        "name": "ipython",
        "version": 3
      },
      "file_extension": ".py",
      "mimetype": "text/x-python",
      "name": "python",
      "nbconvert_exporter": "python",
      "pygments_lexer": "ipython3",
      "version": "3.10.9"
    },
    "vscode": {
      "interpreter": {
        "hash": "fa4a27bd41d0cf36f9f9b9492b2f9e58daee837c50c5f70fb00801aa8329958e"
      }
    }
  },
  "nbformat": 4,
  "nbformat_minor": 0
}
