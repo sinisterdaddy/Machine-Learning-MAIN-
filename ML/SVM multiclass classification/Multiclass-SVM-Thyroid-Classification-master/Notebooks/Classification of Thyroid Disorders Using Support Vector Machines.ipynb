{
 "cells": [
  {
   "cell_type": "code",
   "execution_count": 37,
   "metadata": {},
   "outputs": [],
   "source": [
    "import warnings\n",
    "warnings.filterwarnings(\"ignore\")\n",
    "\n",
    "import pandas as pd\n",
    "import numpy as np\n",
    "\n",
    "from sklearn.svm import SVC\n",
    "from sklearn.preprocessing import label_binarize\n",
    "from sklearn.impute import SimpleImputer\n",
    "from sklearn.preprocessing import MinMaxScaler\n",
    "from sklearn.utils.class_weight import compute_class_weight\n",
    "from sklearn.model_selection import GridSearchCV, train_test_split, cross_val_score\n",
    "from sklearn.metrics import classification_report, accuracy_score, confusion_matrix\n",
    "from sklearn.preprocessing import LabelEncoder\n",
    "from sklearn.decomposition import PCA\n",
    "\n",
    "import matplotlib.pyplot as plt\n",
    "%matplotlib inline"
   ]
  },
  {
   "cell_type": "markdown",
   "metadata": {},
   "source": [
    "# Helper Functions"
   ]
  },
  {
   "cell_type": "code",
   "execution_count": 38,
   "metadata": {},
   "outputs": [],
   "source": [
    "def parse_row(row):\n",
    "    row = row.split(\".\")[0]\n",
    "    return row\n",
    "\n",
    "def to_hyperthyroid(row):\n",
    "    if row != \"negative\":\n",
    "        row = \"hyperthyroid\"\n",
    "    return row\n",
    "\n",
    "def to_hypothyroid(row):\n",
    "    if row != \"negative\":\n",
    "        row = \"hypothyroid\"\n",
    "    return row\n",
    "\n",
    "def convert_category(dataframe, column):\n",
    "    \n",
    "    if column == 'Sex':\n",
    "        conditionF = dataframe[column] == 'F' # For sex column\n",
    "        conditionT = dataframe[column] == 'M' # For sex column\n",
    "    else:\n",
    "        conditionF = dataframe[column] == 'f'\n",
    "        conditionT = dataframe[column] == 't'\n",
    "    \n",
    "    dataframe.loc[conditionF, column] = 0\n",
    "    dataframe.loc[conditionT, column] = 1"
   ]
  },
  {
   "cell_type": "markdown",
   "metadata": {},
   "source": [
    "# Data Retrieval  "
   ]
  },
  {
   "cell_type": "code",
   "execution_count": 39,
   "metadata": {},
   "outputs": [],
   "source": [
    "columns = [\"Age\", \"Sex\", \"On Thyroxine\", \"Query on Thyroxine\", \n",
    "           \"On Antithyroid Medication\", \"Sick\", \"Pregnant\", \n",
    "           \"Thyroid Surgery\", \"I131 Treatment\", \"Query Hypothyroid\", \n",
    "           \"Query Hyperthyroid\", \"Lithium\", \"Goitre\", \"Tumor\", \n",
    "           \"Hypopituitary\", \"Psych\", \"TSH Measured\", \"TSH\", \"T3 Measured\", \n",
    "           \"T3\", \"TT4 Measured\", \"TT4\", \"T4U Measured\", \"T4U\", \n",
    "           \"FTI Measured\", \"FTI\", \"TBG Measured\", \"TBG\", \"Referral Source\", \"Category\"]"
   ]
  },
  {
   "cell_type": "code",
   "execution_count": 40,
   "metadata": {},
   "outputs": [],
   "source": [
    "hyper_data = pd.read_csv(\"../Datasets/allhyper.csv\", names=columns)\n",
    "hypo_data = pd.read_csv(\"../Datasets/allhypo.csv\", names=columns)\n",
    "sick_data = pd.read_csv(\"../Datasets/sick.csv\", names=columns)"
   ]
  },
  {
   "cell_type": "code",
   "execution_count": 41,
   "metadata": {},
   "outputs": [],
   "source": [
    "hyper_data['Category'] = hyper_data['Category'] \\\n",
    "                            .apply(parse_row) \\\n",
    "                            .apply(to_hyperthyroid)\n",
    "\n",
    "hypo_data['Category'] = hypo_data['Category'] \\\n",
    "                            .apply(parse_row) \\\n",
    "                            .apply(to_hypothyroid)\n",
    "\n",
    "sick_data['Category'] = sick_data['Category'] \\\n",
    "                            .apply(parse_row)"
   ]
  },
  {
   "cell_type": "code",
   "execution_count": 42,
   "metadata": {},
   "outputs": [],
   "source": [
    "# Combined Thyroid Data\n",
    "\n",
    "thyroid_frames = [hyper_data, hypo_data, sick_data]\n",
    "thyroid_data = pd.concat(thyroid_frames) \\\n",
    "                 .drop_duplicates() \\\n",
    "                 .drop(['Referral Source', 'TBG', 'TBG Measured'], axis=1)"
   ]
  },
  {
   "cell_type": "code",
   "execution_count": 43,
   "metadata": {},
   "outputs": [],
   "source": [
    "classes = thyroid_data['Category'].unique()"
   ]
  },
  {
   "cell_type": "code",
   "execution_count": 44,
   "metadata": {},
   "outputs": [
    {
     "name": "stdout",
     "output_type": "stream",
     "text": [
      "Number of samples: 3221\n"
     ]
    }
   ],
   "source": [
    "print(\"Number of samples:\", len(thyroid_data))"
   ]
  },
  {
   "cell_type": "code",
   "execution_count": 45,
   "metadata": {},
   "outputs": [
    {
     "data": {
      "text/html": [
       "<div>\n",
       "<style scoped>\n",
       "    .dataframe tbody tr th:only-of-type {\n",
       "        vertical-align: middle;\n",
       "    }\n",
       "\n",
       "    .dataframe tbody tr th {\n",
       "        vertical-align: top;\n",
       "    }\n",
       "\n",
       "    .dataframe thead th {\n",
       "        text-align: right;\n",
       "    }\n",
       "</style>\n",
       "<table border=\"1\" class=\"dataframe\">\n",
       "  <thead>\n",
       "    <tr style=\"text-align: right;\">\n",
       "      <th></th>\n",
       "      <th>Age</th>\n",
       "      <th>Sex</th>\n",
       "      <th>On Thyroxine</th>\n",
       "      <th>Query on Thyroxine</th>\n",
       "      <th>On Antithyroid Medication</th>\n",
       "      <th>Sick</th>\n",
       "      <th>Pregnant</th>\n",
       "      <th>Thyroid Surgery</th>\n",
       "      <th>I131 Treatment</th>\n",
       "      <th>Query Hypothyroid</th>\n",
       "      <th>...</th>\n",
       "      <th>TSH</th>\n",
       "      <th>T3 Measured</th>\n",
       "      <th>T3</th>\n",
       "      <th>TT4 Measured</th>\n",
       "      <th>TT4</th>\n",
       "      <th>T4U Measured</th>\n",
       "      <th>T4U</th>\n",
       "      <th>FTI Measured</th>\n",
       "      <th>FTI</th>\n",
       "      <th>Category</th>\n",
       "    </tr>\n",
       "  </thead>\n",
       "  <tbody>\n",
       "    <tr>\n",
       "      <th>0</th>\n",
       "      <td>41</td>\n",
       "      <td>F</td>\n",
       "      <td>f</td>\n",
       "      <td>f</td>\n",
       "      <td>f</td>\n",
       "      <td>f</td>\n",
       "      <td>f</td>\n",
       "      <td>f</td>\n",
       "      <td>f</td>\n",
       "      <td>f</td>\n",
       "      <td>...</td>\n",
       "      <td>1.3</td>\n",
       "      <td>t</td>\n",
       "      <td>2.5</td>\n",
       "      <td>t</td>\n",
       "      <td>125</td>\n",
       "      <td>t</td>\n",
       "      <td>1.14</td>\n",
       "      <td>t</td>\n",
       "      <td>109</td>\n",
       "      <td>negative</td>\n",
       "    </tr>\n",
       "    <tr>\n",
       "      <th>1</th>\n",
       "      <td>23</td>\n",
       "      <td>F</td>\n",
       "      <td>f</td>\n",
       "      <td>f</td>\n",
       "      <td>f</td>\n",
       "      <td>f</td>\n",
       "      <td>f</td>\n",
       "      <td>f</td>\n",
       "      <td>f</td>\n",
       "      <td>f</td>\n",
       "      <td>...</td>\n",
       "      <td>4.1</td>\n",
       "      <td>t</td>\n",
       "      <td>2</td>\n",
       "      <td>t</td>\n",
       "      <td>102</td>\n",
       "      <td>f</td>\n",
       "      <td>?</td>\n",
       "      <td>f</td>\n",
       "      <td>?</td>\n",
       "      <td>negative</td>\n",
       "    </tr>\n",
       "    <tr>\n",
       "      <th>2</th>\n",
       "      <td>46</td>\n",
       "      <td>M</td>\n",
       "      <td>f</td>\n",
       "      <td>f</td>\n",
       "      <td>f</td>\n",
       "      <td>f</td>\n",
       "      <td>f</td>\n",
       "      <td>f</td>\n",
       "      <td>f</td>\n",
       "      <td>f</td>\n",
       "      <td>...</td>\n",
       "      <td>0.98</td>\n",
       "      <td>f</td>\n",
       "      <td>?</td>\n",
       "      <td>t</td>\n",
       "      <td>109</td>\n",
       "      <td>t</td>\n",
       "      <td>0.91</td>\n",
       "      <td>t</td>\n",
       "      <td>120</td>\n",
       "      <td>negative</td>\n",
       "    </tr>\n",
       "    <tr>\n",
       "      <th>3</th>\n",
       "      <td>70</td>\n",
       "      <td>F</td>\n",
       "      <td>t</td>\n",
       "      <td>f</td>\n",
       "      <td>f</td>\n",
       "      <td>f</td>\n",
       "      <td>f</td>\n",
       "      <td>f</td>\n",
       "      <td>f</td>\n",
       "      <td>f</td>\n",
       "      <td>...</td>\n",
       "      <td>0.16</td>\n",
       "      <td>t</td>\n",
       "      <td>1.9</td>\n",
       "      <td>t</td>\n",
       "      <td>175</td>\n",
       "      <td>f</td>\n",
       "      <td>?</td>\n",
       "      <td>f</td>\n",
       "      <td>?</td>\n",
       "      <td>negative</td>\n",
       "    </tr>\n",
       "    <tr>\n",
       "      <th>4</th>\n",
       "      <td>70</td>\n",
       "      <td>F</td>\n",
       "      <td>f</td>\n",
       "      <td>f</td>\n",
       "      <td>f</td>\n",
       "      <td>f</td>\n",
       "      <td>f</td>\n",
       "      <td>f</td>\n",
       "      <td>f</td>\n",
       "      <td>f</td>\n",
       "      <td>...</td>\n",
       "      <td>0.72</td>\n",
       "      <td>t</td>\n",
       "      <td>1.2</td>\n",
       "      <td>t</td>\n",
       "      <td>61</td>\n",
       "      <td>t</td>\n",
       "      <td>0.87</td>\n",
       "      <td>t</td>\n",
       "      <td>70</td>\n",
       "      <td>negative</td>\n",
       "    </tr>\n",
       "  </tbody>\n",
       "</table>\n",
       "<p>5 rows × 27 columns</p>\n",
       "</div>"
      ],
      "text/plain": [
       "  Age Sex On Thyroxine Query on Thyroxine On Antithyroid Medication Sick  \\\n",
       "0  41   F            f                  f                         f    f   \n",
       "1  23   F            f                  f                         f    f   \n",
       "2  46   M            f                  f                         f    f   \n",
       "3  70   F            t                  f                         f    f   \n",
       "4  70   F            f                  f                         f    f   \n",
       "\n",
       "  Pregnant Thyroid Surgery I131 Treatment Query Hypothyroid  ...   TSH  \\\n",
       "0        f               f              f                 f  ...   1.3   \n",
       "1        f               f              f                 f  ...   4.1   \n",
       "2        f               f              f                 f  ...  0.98   \n",
       "3        f               f              f                 f  ...  0.16   \n",
       "4        f               f              f                 f  ...  0.72   \n",
       "\n",
       "  T3 Measured   T3 TT4 Measured  TT4 T4U Measured   T4U FTI Measured  FTI  \\\n",
       "0           t  2.5            t  125            t  1.14            t  109   \n",
       "1           t    2            t  102            f     ?            f    ?   \n",
       "2           f    ?            t  109            t  0.91            t  120   \n",
       "3           t  1.9            t  175            f     ?            f    ?   \n",
       "4           t  1.2            t   61            t  0.87            t   70   \n",
       "\n",
       "   Category  \n",
       "0  negative  \n",
       "1  negative  \n",
       "2  negative  \n",
       "3  negative  \n",
       "4  negative  \n",
       "\n",
       "[5 rows x 27 columns]"
      ]
     },
     "execution_count": 45,
     "metadata": {},
     "output_type": "execute_result"
    }
   ],
   "source": [
    "thyroid_data.head()"
   ]
  },
  {
   "cell_type": "markdown",
   "metadata": {},
   "source": [
    "# Data Cleaning"
   ]
  },
  {
   "cell_type": "code",
   "execution_count": 46,
   "metadata": {},
   "outputs": [],
   "source": [
    "# A quick fix needed\n",
    "thyroid_data.loc[thyroid_data['Age'] == '455', 'Age'] = '45'"
   ]
  },
  {
   "cell_type": "code",
   "execution_count": 47,
   "metadata": {},
   "outputs": [],
   "source": [
    "# Binarize Category Columns\n",
    "binary_cols = ['On Thyroxine', 'Query on Thyroxine', 'Sex',\n",
    "               'On Antithyroid Medication', 'Sick', 'Pregnant', \n",
    "               'Thyroid Surgery', 'I131 Treatment', 'Query Hypothyroid', \n",
    "               'Query Hyperthyroid', 'Lithium', 'Goitre', 'Tumor', \n",
    "               'Hypopituitary', 'Psych', 'TSH Measured', 'T3 Measured', \n",
    "               'TT4 Measured', 'T4U Measured', 'FTI Measured']\n",
    "\n",
    "for col in binary_cols: convert_category(thyroid_data, col)"
   ]
  },
  {
   "cell_type": "code",
   "execution_count": 48,
   "metadata": {},
   "outputs": [],
   "source": [
    "# Convert '?' to np.nan and convert numeric data to numeric dtype\n",
    "for col in thyroid_data.columns: \n",
    "    if col != 'Category':\n",
    "        thyroid_data.loc[thyroid_data[col] == '?', col] = np.nan\n",
    "        thyroid_data[col] = pd.to_numeric(thyroid_data[col])"
   ]
  },
  {
   "cell_type": "code",
   "execution_count": 49,
   "metadata": {},
   "outputs": [],
   "source": [
    "curr_columns = thyroid_data.columns.difference(['Category'])\n",
    "\n",
    "imputer = SimpleImputer(missing_values=np.nan, strategy='median')\n",
    "imputed_data = imputer.fit_transform(thyroid_data.drop('Category', axis=1))\n",
    "imputed_data = pd.DataFrame(imputed_data, columns=curr_columns)\n",
    "\n",
    "thyroid_data = pd.concat([\n",
    "                    imputed_data.reset_index(), \n",
    "                    thyroid_data['Category'].reset_index()], \n",
    "                    axis=1).drop('index', axis=1)"
   ]
  },
  {
   "cell_type": "code",
   "execution_count": 50,
   "metadata": {},
   "outputs": [
    {
     "data": {
      "text/html": [
       "<div>\n",
       "<style scoped>\n",
       "    .dataframe tbody tr th:only-of-type {\n",
       "        vertical-align: middle;\n",
       "    }\n",
       "\n",
       "    .dataframe tbody tr th {\n",
       "        vertical-align: top;\n",
       "    }\n",
       "\n",
       "    .dataframe thead th {\n",
       "        text-align: right;\n",
       "    }\n",
       "</style>\n",
       "<table border=\"1\" class=\"dataframe\">\n",
       "  <thead>\n",
       "    <tr style=\"text-align: right;\">\n",
       "      <th></th>\n",
       "      <th>Age</th>\n",
       "      <th>FTI</th>\n",
       "      <th>FTI Measured</th>\n",
       "      <th>Goitre</th>\n",
       "      <th>Hypopituitary</th>\n",
       "      <th>I131 Treatment</th>\n",
       "      <th>Lithium</th>\n",
       "      <th>On Antithyroid Medication</th>\n",
       "      <th>On Thyroxine</th>\n",
       "      <th>Pregnant</th>\n",
       "      <th>...</th>\n",
       "      <th>T3 Measured</th>\n",
       "      <th>T4U</th>\n",
       "      <th>T4U Measured</th>\n",
       "      <th>TSH</th>\n",
       "      <th>TSH Measured</th>\n",
       "      <th>TT4</th>\n",
       "      <th>TT4 Measured</th>\n",
       "      <th>Thyroid Surgery</th>\n",
       "      <th>Tumor</th>\n",
       "      <th>Category</th>\n",
       "    </tr>\n",
       "  </thead>\n",
       "  <tbody>\n",
       "    <tr>\n",
       "      <th>0</th>\n",
       "      <td>41.0</td>\n",
       "      <td>0.0</td>\n",
       "      <td>0.0</td>\n",
       "      <td>0.0</td>\n",
       "      <td>0.0</td>\n",
       "      <td>0.0</td>\n",
       "      <td>0.0</td>\n",
       "      <td>0.0</td>\n",
       "      <td>0.0</td>\n",
       "      <td>0.0</td>\n",
       "      <td>...</td>\n",
       "      <td>1.30</td>\n",
       "      <td>1.0</td>\n",
       "      <td>2.5</td>\n",
       "      <td>1.0</td>\n",
       "      <td>125.0</td>\n",
       "      <td>1.0</td>\n",
       "      <td>1.14</td>\n",
       "      <td>1.0</td>\n",
       "      <td>109.0</td>\n",
       "      <td>negative</td>\n",
       "    </tr>\n",
       "    <tr>\n",
       "      <th>1</th>\n",
       "      <td>23.0</td>\n",
       "      <td>0.0</td>\n",
       "      <td>0.0</td>\n",
       "      <td>0.0</td>\n",
       "      <td>0.0</td>\n",
       "      <td>0.0</td>\n",
       "      <td>0.0</td>\n",
       "      <td>0.0</td>\n",
       "      <td>0.0</td>\n",
       "      <td>0.0</td>\n",
       "      <td>...</td>\n",
       "      <td>4.10</td>\n",
       "      <td>1.0</td>\n",
       "      <td>2.0</td>\n",
       "      <td>1.0</td>\n",
       "      <td>102.0</td>\n",
       "      <td>0.0</td>\n",
       "      <td>0.97</td>\n",
       "      <td>0.0</td>\n",
       "      <td>106.0</td>\n",
       "      <td>negative</td>\n",
       "    </tr>\n",
       "    <tr>\n",
       "      <th>2</th>\n",
       "      <td>46.0</td>\n",
       "      <td>1.0</td>\n",
       "      <td>0.0</td>\n",
       "      <td>0.0</td>\n",
       "      <td>0.0</td>\n",
       "      <td>0.0</td>\n",
       "      <td>0.0</td>\n",
       "      <td>0.0</td>\n",
       "      <td>0.0</td>\n",
       "      <td>0.0</td>\n",
       "      <td>...</td>\n",
       "      <td>0.98</td>\n",
       "      <td>0.0</td>\n",
       "      <td>1.9</td>\n",
       "      <td>1.0</td>\n",
       "      <td>109.0</td>\n",
       "      <td>1.0</td>\n",
       "      <td>0.91</td>\n",
       "      <td>1.0</td>\n",
       "      <td>120.0</td>\n",
       "      <td>negative</td>\n",
       "    </tr>\n",
       "    <tr>\n",
       "      <th>3</th>\n",
       "      <td>70.0</td>\n",
       "      <td>0.0</td>\n",
       "      <td>1.0</td>\n",
       "      <td>0.0</td>\n",
       "      <td>0.0</td>\n",
       "      <td>0.0</td>\n",
       "      <td>0.0</td>\n",
       "      <td>0.0</td>\n",
       "      <td>0.0</td>\n",
       "      <td>0.0</td>\n",
       "      <td>...</td>\n",
       "      <td>0.16</td>\n",
       "      <td>1.0</td>\n",
       "      <td>1.9</td>\n",
       "      <td>1.0</td>\n",
       "      <td>175.0</td>\n",
       "      <td>0.0</td>\n",
       "      <td>0.97</td>\n",
       "      <td>0.0</td>\n",
       "      <td>106.0</td>\n",
       "      <td>negative</td>\n",
       "    </tr>\n",
       "    <tr>\n",
       "      <th>4</th>\n",
       "      <td>70.0</td>\n",
       "      <td>0.0</td>\n",
       "      <td>0.0</td>\n",
       "      <td>0.0</td>\n",
       "      <td>0.0</td>\n",
       "      <td>0.0</td>\n",
       "      <td>0.0</td>\n",
       "      <td>0.0</td>\n",
       "      <td>0.0</td>\n",
       "      <td>0.0</td>\n",
       "      <td>...</td>\n",
       "      <td>0.72</td>\n",
       "      <td>1.0</td>\n",
       "      <td>1.2</td>\n",
       "      <td>1.0</td>\n",
       "      <td>61.0</td>\n",
       "      <td>1.0</td>\n",
       "      <td>0.87</td>\n",
       "      <td>1.0</td>\n",
       "      <td>70.0</td>\n",
       "      <td>negative</td>\n",
       "    </tr>\n",
       "  </tbody>\n",
       "</table>\n",
       "<p>5 rows × 27 columns</p>\n",
       "</div>"
      ],
      "text/plain": [
       "    Age  FTI  FTI Measured  Goitre  Hypopituitary  I131 Treatment  Lithium  \\\n",
       "0  41.0  0.0           0.0     0.0            0.0             0.0      0.0   \n",
       "1  23.0  0.0           0.0     0.0            0.0             0.0      0.0   \n",
       "2  46.0  1.0           0.0     0.0            0.0             0.0      0.0   \n",
       "3  70.0  0.0           1.0     0.0            0.0             0.0      0.0   \n",
       "4  70.0  0.0           0.0     0.0            0.0             0.0      0.0   \n",
       "\n",
       "   On Antithyroid Medication  On Thyroxine  Pregnant  ...  T3 Measured  T4U  \\\n",
       "0                        0.0           0.0       0.0  ...         1.30  1.0   \n",
       "1                        0.0           0.0       0.0  ...         4.10  1.0   \n",
       "2                        0.0           0.0       0.0  ...         0.98  0.0   \n",
       "3                        0.0           0.0       0.0  ...         0.16  1.0   \n",
       "4                        0.0           0.0       0.0  ...         0.72  1.0   \n",
       "\n",
       "   T4U Measured  TSH  TSH Measured  TT4  TT4 Measured  Thyroid Surgery  Tumor  \\\n",
       "0           2.5  1.0         125.0  1.0          1.14              1.0  109.0   \n",
       "1           2.0  1.0         102.0  0.0          0.97              0.0  106.0   \n",
       "2           1.9  1.0         109.0  1.0          0.91              1.0  120.0   \n",
       "3           1.9  1.0         175.0  0.0          0.97              0.0  106.0   \n",
       "4           1.2  1.0          61.0  1.0          0.87              1.0   70.0   \n",
       "\n",
       "   Category  \n",
       "0  negative  \n",
       "1  negative  \n",
       "2  negative  \n",
       "3  negative  \n",
       "4  negative  \n",
       "\n",
       "[5 rows x 27 columns]"
      ]
     },
     "execution_count": 50,
     "metadata": {},
     "output_type": "execute_result"
    }
   ],
   "source": [
    "\n"
   ]
  },
  {
   "cell_type": "markdown",
   "metadata": {},
   "source": [
    "# Split Data"
   ]
  },
  {
   "cell_type": "code",
   "execution_count": 51,
   "metadata": {},
   "outputs": [],
   "source": [
    "X = thyroid_data.drop('Category', axis=1)\n",
    "y = thyroid_data['Category']\n",
    "\n",
    "col_names = X.columns\n",
    "\n",
    "X_train, X_test, y_train, y_test = train_test_split(X, y, test_size=0.25, stratify=y)\n",
    "\n",
    "scaler = MinMaxScaler()\n",
    "X_train = pd.DataFrame(scaler.fit_transform(X_train))\n",
    "X_test = pd.DataFrame(scaler.transform(X_test))"
   ]
  },
  {
   "cell_type": "markdown",
   "metadata": {},
   "source": [
    "# Visualize Data with PCA"
   ]
  },
  {
   "cell_type": "code",
   "execution_count": 52,
   "metadata": {},
   "outputs": [
    {
     "data": {
      "image/png": "[encoded data removed]",
      "text/plain": [
       "<Figure size 1000x1000 with 1 Axes>"
      ]
     },
     "metadata": {},
     "output_type": "display_data"
    }
   ],
   "source": [
    "def plot_pca_data(X, y):    \n",
    "    \n",
    "    LE = LabelEncoder()\n",
    "    y_encoded = LE.fit_transform(y)\n",
    "    \n",
    "    pca = PCA(n_components=2)\n",
    "    pca.fit(X)\n",
    "    pca_X = pca.transform(X)\n",
    "\n",
    "    x_axis = pca_X[:,0]\n",
    "    y_axis = pca_X[:,1]\n",
    "\n",
    "    fig = plt.figure(figsize=(10,10))\n",
    "    ax = fig.add_subplot(111)\n",
    "    \n",
    "    for label in np.unique(y):\n",
    "        ax.scatter(pca_X[y==label, 0],\n",
    "                   pca_X[y==label, 1], \n",
    "                   label=label,\n",
    "                   s=100,\n",
    "                   edgecolor='k')\n",
    "        \n",
    "\n",
    "    ax.legend()\n",
    "    plt.xticks([])\n",
    "    plt.yticks([])\n",
    "\n",
    "plot_pca_data(X, y)"
   ]
  },
  {
   "cell_type": "markdown",
   "metadata": {},
   "source": [
    "# Model Selection"
   ]
  },
  {
   "cell_type": "code",
   "execution_count": 53,
   "metadata": {},
   "outputs": [],
   "source": [
    "def search_for_parameters(estimator, X_data, y_data, grid_parameters, scoring='accuracy', cv=3):\n",
    "    \n",
    "    classes = y_data.unique()\n",
    "    \n",
    "    # Execute Grid Search\n",
    "    grid_clf = GridSearchCV(estimator=estimator, scoring=scoring,\n",
    "                            param_grid=grid_parameters,\n",
    "                            cv=cv,n_jobs=-1)\n",
    "    \n",
    "    grid_clf.fit(X_data, y_data)\n",
    "\n",
    "    print(\"The best parameters are: \", grid_clf.best_params_)\n",
    "\n",
    "    return grid_clf.best_params_"
   ]
  },
  {
   "cell_type": "code",
   "execution_count": 54,
   "metadata": {},
   "outputs": [
    {
     "name": "stdout",
     "output_type": "stream",
     "text": [
      "The best parameters are:  {'C': 8, 'degree': 5, 'gamma': 'scale', 'kernel': 'poly'}\n"
     ]
    },
    {
     "data": {
      "text/html": [
       "<style>#sk-container-id-1 {color: black;background-color: white;}#sk-container-id-1 pre{padding: 0;}#sk-container-id-1 div.sk-toggleable {background-color: white;}#sk-container-id-1 label.sk-toggleable__label {cursor: pointer;display: block;width: 100%;margin-bottom: 0;padding: 0.3em;box-sizing: border-box;text-align: center;}#sk-container-id-1 label.sk-toggleable__label-arrow:before {content: \"▸\";float: left;margin-right: 0.25em;color: #696969;}#sk-container-id-1 label.sk-toggleable__label-arrow:hover:before {color: black;}#sk-container-id-1 div.sk-estimator:hover label.sk-toggleable__label-arrow:before {color: black;}#sk-container-id-1 div.sk-toggleable__content {max-height: 0;max-width: 0;overflow: hidden;text-align: left;background-color: #f0f8ff;}#sk-container-id-1 div.sk-toggleable__content pre {margin: 0.2em;color: black;border-radius: 0.25em;background-color: #f0f8ff;}#sk-container-id-1 input.sk-toggleable__control:checked~div.sk-toggleable__content {max-height: 200px;max-width: 100%;overflow: auto;}#sk-container-id-1 input.sk-toggleable__control:checked~label.sk-toggleable__label-arrow:before {content: \"▾\";}#sk-container-id-1 div.sk-estimator input.sk-toggleable__control:checked~label.sk-toggleable__label {background-color: #d4ebff;}#sk-container-id-1 div.sk-label input.sk-toggleable__control:checked~label.sk-toggleable__label {background-color: #d4ebff;}#sk-container-id-1 input.sk-hidden--visually {border: 0;clip: rect(1px 1px 1px 1px);clip: rect(1px, 1px, 1px, 1px);height: 1px;margin: -1px;overflow: hidden;padding: 0;position: absolute;width: 1px;}#sk-container-id-1 div.sk-estimator {font-family: monospace;background-color: #f0f8ff;border: 1px dotted black;border-radius: 0.25em;box-sizing: border-box;margin-bottom: 0.5em;}#sk-container-id-1 div.sk-estimator:hover {background-color: #d4ebff;}#sk-container-id-1 div.sk-parallel-item::after {content: \"\";width: 100%;border-bottom: 1px solid gray;flex-grow: 1;}#sk-container-id-1 div.sk-label:hover label.sk-toggleable__label {background-color: #d4ebff;}#sk-container-id-1 div.sk-serial::before {content: \"\";position: absolute;border-left: 1px solid gray;box-sizing: border-box;top: 0;bottom: 0;left: 50%;z-index: 0;}#sk-container-id-1 div.sk-serial {display: flex;flex-direction: column;align-items: center;background-color: white;padding-right: 0.2em;padding-left: 0.2em;position: relative;}#sk-container-id-1 div.sk-item {position: relative;z-index: 1;}#sk-container-id-1 div.sk-parallel {display: flex;align-items: stretch;justify-content: center;background-color: white;position: relative;}#sk-container-id-1 div.sk-item::before, #sk-container-id-1 div.sk-parallel-item::before {content: \"\";position: absolute;border-left: 1px solid gray;box-sizing: border-box;top: 0;bottom: 0;left: 50%;z-index: -1;}#sk-container-id-1 div.sk-parallel-item {display: flex;flex-direction: column;z-index: 1;position: relative;background-color: white;}#sk-container-id-1 div.sk-parallel-item:first-child::after {align-self: flex-end;width: 50%;}#sk-container-id-1 div.sk-parallel-item:last-child::after {align-self: flex-start;width: 50%;}#sk-container-id-1 div.sk-parallel-item:only-child::after {width: 0;}#sk-container-id-1 div.sk-dashed-wrapped {border: 1px dashed gray;margin: 0 0.4em 0.5em 0.4em;box-sizing: border-box;padding-bottom: 0.4em;background-color: white;}#sk-container-id-1 div.sk-label label {font-family: monospace;font-weight: bold;display: inline-block;line-height: 1.2em;}#sk-container-id-1 div.sk-label-container {text-align: center;}#sk-container-id-1 div.sk-container {/* jupyter's `normalize.less` sets `[hidden] { display: none; }` but bootstrap.min.css set `[hidden] { display: none !important; }` so we also need the `!important` here to be able to override the default hidden behavior on the sphinx rendered scikit-learn.org. See: https://github.com/scikit-learn/scikit-learn/issues/21755 */display: inline-block !important;position: relative;}#sk-container-id-1 div.sk-text-repr-fallback {display: none;}</style><div id=\"sk-container-id-1\" class=\"sk-top-container\"><div class=\"sk-text-repr-fallback\"><pre>SVC(C=8, class_weight=&#x27;balanced&#x27;, degree=5, kernel=&#x27;poly&#x27;)</pre><b>In a Jupyter environment, please rerun this cell to show the HTML representation or trust the notebook. <br />On GitHub, the HTML representation is unable to render, please try loading this page with nbviewer.org.</b></div><div class=\"sk-container\" hidden><div class=\"sk-item\"><div class=\"sk-estimator sk-toggleable\"><input class=\"sk-toggleable__control sk-hidden--visually\" id=\"sk-estimator-id-1\" type=\"checkbox\" checked><label for=\"sk-estimator-id-1\" class=\"sk-toggleable__label sk-toggleable__label-arrow\">SVC</label><div class=\"sk-toggleable__content\"><pre>SVC(C=8, class_weight=&#x27;balanced&#x27;, degree=5, kernel=&#x27;poly&#x27;)</pre></div></div></div></div></div>"
      ],
      "text/plain": [
       "SVC(C=8, class_weight='balanced', degree=5, kernel='poly')"
      ]
     },
     "execution_count": 54,
     "metadata": {},
     "output_type": "execute_result"
    }
   ],
   "source": [
    "svm_clf = SVC(class_weight='balanced')\n",
    "\n",
    "svm_params_list = {'C':[1,2,4,8], \n",
    "                   'kernel':['poly', 'rbf', 'sigmoid'], \n",
    "                   'degree':[3,4,5], \n",
    "                   'gamma':['auto','scale']}\n",
    "\n",
    "svm_parameters = search_for_parameters(estimator=svm_clf, \n",
    "                                X_data=X_train, \n",
    "                                y_data=y_train, cv=5,\n",
    "                                grid_parameters=svm_params_list)\n",
    "\n",
    "svm_clf.set_params(**svm_parameters)\n",
    "\n",
    "svm_clf.fit(X_train, y_train)"
   ]
  },
  {
   "cell_type": "markdown",
   "metadata": {},
   "source": [
    "# Evaluate Parameters "
   ]
  },
  {
   "cell_type": "code",
   "execution_count": 55,
   "metadata": {},
   "outputs": [
    {
     "name": "stdout",
     "output_type": "stream",
     "text": [
      "Model Scoring Evaluation Results\n",
      "The mean score and the confidence interval of the score estimate are:\n",
      "Accuracy: 0.73 (+/- 0.07)\n"
     ]
    }
   ],
   "source": [
    "def cross_validate(estimator, X_data, y_data, scoring='accuracy', cv=3, Z=2):\n",
    "    \n",
    "    classes = y_data.unique()\n",
    "    \n",
    "    # Execute Cross Validation\n",
    "    scores = cross_val_score(estimator=estimator, X=X_data, y=y_data, cv=cv, scoring=scoring)\n",
    "\n",
    "    print(\"Model Scoring Evaluation Results\")\n",
    "    print(\"The mean score and the confidence interval of the score estimate are:\")\n",
    "    print(\"Accuracy: %0.2f (+/- %0.2f)\" % (scores.mean(), scores.std() * Z))\n",
    "\n",
    "cross_validate(estimator=svm_clf, X_data=X_train, y_data=y_train, cv=5)"
   ]
  },
  {
   "cell_type": "markdown",
   "metadata": {},
   "source": [
    "# Predict on Test Set "
   ]
  },
  {
   "cell_type": "code",
   "execution_count": 56,
   "metadata": {},
   "outputs": [
    {
     "name": "stdout",
     "output_type": "stream",
     "text": [
      "Accuracy: 0.6985111662531017\n",
      "**************************************************\n",
      "\n",
      "\t\t\tClassification Report\n",
      "\n",
      "              precision    recall  f1-score   support\n",
      "\n",
      "hyperthyroid       0.19      0.42      0.26        19\n",
      " hypothyroid       0.27      0.51      0.35        55\n",
      "    negative       0.92      0.73      0.81       689\n",
      "        sick       0.23      0.63      0.33        43\n",
      "\n",
      "    accuracy                           0.70       806\n",
      "   macro avg       0.40      0.57      0.44       806\n",
      "weighted avg       0.83      0.70      0.74       806\n",
      "\n"
     ]
    }
   ],
   "source": [
    "y_true, y_pred = y_test, svm_clf.predict(X_test)\n",
    "\n",
    "print(\"Accuracy:\",accuracy_score(y_test, y_pred))\n",
    "print(\"*\"*50)\n",
    "print()\n",
    "print(\"\\t\\t\\tClassification Report\")\n",
    "print()\n",
    "print(classification_report(y_true, y_pred))"
   ]
  },
  {
   "cell_type": "code",
   "execution_count": 57,
   "metadata": {},
   "outputs": [
    {
     "name": "stdout",
     "output_type": "stream",
     "text": [
      "[[500  31  75  83]\n",
      " [  8   8   0   3]\n",
      " [ 21   0  28   6]\n",
      " [ 12   3   1  27]]\n"
     ]
    }
   ],
   "source": [
    "# Confusion Matrix\n",
    "cm = confusion_matrix(y_true, y_pred, labels=classes)\n",
    "print(cm)"
   ]
  }
 ],
 "metadata": {
  "kernelspec": {
   "display_name": "Python 3",
   "language": "python",
   "name": "python3"
  },
  "language_info": {
   "codemirror_mode": {
    "name": "ipython",
    "version": 3
   },
   "file_extension": ".py",
   "mimetype": "text/x-python",
   "name": "python",
   "nbconvert_exporter": "python",
   "pygments_lexer": "ipython3",
   "version": "3.10.9"
  }
 },
 "nbformat": 4,
 "nbformat_minor": 2
}
